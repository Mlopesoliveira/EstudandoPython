{
  "nbformat": 4,
  "nbformat_minor": 0,
  "metadata": {
    "colab": {
      "provenance": [],
      "authorship_tag": "ABX9TyN27G126AKC8Y6Aw8wa8Jfn",
      "include_colab_link": true
    },
    "kernelspec": {
      "name": "python3",
      "display_name": "Python 3"
    },
    "language_info": {
      "name": "python"
    }
  },
  "cells": [
    {
      "cell_type": "markdown",
      "metadata": {
        "id": "view-in-github",
        "colab_type": "text"
      },
      "source": [
        "<a href=\"https://colab.research.google.com/github/Mlopesoliveira/EstudandoPython/blob/main/Primeiros_c%C3%B3digos_em_Python_.ipynb\" target=\"_parent\"><img src=\"https://colab.research.google.com/assets/colab-badge.svg\" alt=\"Open In Colab\"/></a>"
      ]
    },
    {
      "cell_type": "markdown",
      "source": [
        "**Primeiros códigos estudando Python!**"
      ],
      "metadata": {
        "id": "_2gYhg7Dfqp8"
      }
    },
    {
      "cell_type": "code",
      "execution_count": null,
      "metadata": {
        "colab": {
          "base_uri": "https://localhost:8080/"
        },
        "id": "jYcsBTfvHNkn",
        "outputId": "4d54d283-6c33-44a9-883b-66693b67f0c2"
      },
      "outputs": [
        {
          "output_type": "stream",
          "name": "stdout",
          "text": [
            "Olá mundo!\n",
            "Hello world!\n"
          ]
        }
      ],
      "source": [
        "print('Olá mundo!')\n",
        "print('Hello world!')"
      ]
    },
    {
      "cell_type": "code",
      "source": [
        "print(7+5*18)"
      ],
      "metadata": {
        "colab": {
          "base_uri": "https://localhost:8080/"
        },
        "id": "wV4JdXVlRsF5",
        "outputId": "3bf48047-e67b-4cec-d7c9-df729f51ea2e"
      },
      "execution_count": null,
      "outputs": [
        {
          "output_type": "stream",
          "name": "stdout",
          "text": [
            "97\n"
          ]
        }
      ]
    },
    {
      "cell_type": "code",
      "source": [
        "print('Olá'+' ''mundo!')\n",
        "print('7'+'4')"
      ],
      "metadata": {
        "colab": {
          "base_uri": "https://localhost:8080/"
        },
        "id": "3D00xvXYR6LE",
        "outputId": "ecb06d25-4382-40ce-ce07-32fd2905f277"
      },
      "execution_count": null,
      "outputs": [
        {
          "output_type": "stream",
          "name": "stdout",
          "text": [
            "Olá mundo!\n",
            "74\n"
          ]
        }
      ]
    },
    {
      "cell_type": "code",
      "source": [
        "print('cálculo',5*8)"
      ],
      "metadata": {
        "colab": {
          "base_uri": "https://localhost:8080/"
        },
        "id": "GAssaOjGSWEH",
        "outputId": "a5b73042-c004-4cf9-dd4a-2b8a1400d7b0"
      },
      "execution_count": null,
      "outputs": [
        {
          "output_type": "stream",
          "name": "stdout",
          "text": [
            "cálculo 40\n"
          ]
        }
      ]
    },
    {
      "cell_type": "code",
      "source": [
        "nome = 'Melissa'\n",
        "idade = 17\n",
        "print('Olá',nome, 'você tem', idade)"
      ],
      "metadata": {
        "colab": {
          "base_uri": "https://localhost:8080/"
        },
        "id": "HvPDedABTNCY",
        "outputId": "fe639b3b-dcef-456f-e37d-a11de2de0cec"
      },
      "execution_count": null,
      "outputs": [
        {
          "output_type": "stream",
          "name": "stdout",
          "text": [
            "Olá Melissa você tem 17\n"
          ]
        }
      ]
    },
    {
      "cell_type": "code",
      "source": [
        "nome = 'Melissa'\n",
        "idade = 17\n",
        "leituraAtual = 'O mar de monstros'\n",
        "print(nome, idade, leituraAtual)"
      ],
      "metadata": {
        "colab": {
          "base_uri": "https://localhost:8080/"
        },
        "id": "v8pCxoLTUDG7",
        "outputId": "6d57fdd1-c222-4506-988d-00453686314d"
      },
      "execution_count": 5,
      "outputs": [
        {
          "output_type": "stream",
          "name": "stdout",
          "text": [
            "Melissa 17 O mar de monstros\n"
          ]
        }
      ]
    },
    {
      "cell_type": "code",
      "source": [
        "apelido = input ('Qual é o seu apelido? ')\n",
        "print(apelido)"
      ],
      "metadata": {
        "colab": {
          "base_uri": "https://localhost:8080/"
        },
        "id": "4Y4gXw81VR1V",
        "outputId": "bc4c2427-11d7-4c60-d7d7-592a1a59bda8"
      },
      "execution_count": null,
      "outputs": [
        {
          "output_type": "stream",
          "name": "stdout",
          "text": [
            "Qual é o seu apelido? Mel\n",
            "Mel\n"
          ]
        }
      ]
    },
    {
      "cell_type": "code",
      "source": [
        "#Crie um script Python que leia o nome de uma pessoa e mostra uma mensagem de boas-vindas de acordo com o valor digitado.\n",
        "\n",
        "nome = input('Qual é o seu nome? ')\n",
        "print('Seja bem vinda ao meu código',nome,'!')\n"
      ],
      "metadata": {
        "colab": {
          "base_uri": "https://localhost:8080/"
        },
        "id": "C1JCKnT9XL-G",
        "outputId": "c47ed7c8-ac39-4090-c5c5-3c5a3a0d8bdb"
      },
      "execution_count": 6,
      "outputs": [
        {
          "output_type": "stream",
          "name": "stdout",
          "text": [
            "Qual é o seu nome? Melissa\n",
            "Seja bem vinda ao meu código Melissa !\n"
          ]
        }
      ]
    },
    {
      "cell_type": "code",
      "source": [
        "#Crie um script que leia o dia, o mês e o ano de nascimento do usuário e e mostre a data junta.\n",
        "\n",
        "dia = input('Informe o dia em que você nasceu: ')\n",
        "mes = input('Agora informe o mês de seu nascimento: ')\n",
        "ano = input('Por fim digite o ano em que você nasceu: ')\n",
        "print(dia,'/',mes,'/',ano)"
      ],
      "metadata": {
        "colab": {
          "base_uri": "https://localhost:8080/"
        },
        "id": "25ePYZzzYZtN",
        "outputId": "7a7d52c3-20c7-4870-8056-bf9b09c4d6b8"
      },
      "execution_count": null,
      "outputs": [
        {
          "output_type": "stream",
          "name": "stdout",
          "text": [
            "Informe o dia em que você nasceu: 13\n",
            "Agora informe o mês de seu nascimento: 02\n",
            "Por fim digite o ano em que você nasceu: 1984\n",
            "13 / 02 / 1984\n"
          ]
        }
      ]
    },
    {
      "cell_type": "code",
      "source": [
        "#Crie um script que leia o dia, o mês e o ano de nascimento do usuário e e mostre uma mensagem com a data formatada.\n",
        "\n",
        "dia = input('Informe o dia em que você nasceu: ')\n",
        "mes = input('Agora informe o mês de seu nascimento: ')\n",
        "ano = input('Por fim digite o ano em que você nasceu: ')\n",
        "print('Você nasceu no dia',dia,'no mês',mes,'no ano de,',ano,',correto?')"
      ],
      "metadata": {
        "colab": {
          "base_uri": "https://localhost:8080/"
        },
        "outputId": "f03aacbb-dcbd-49d6-a981-6e946ebd7ed1",
        "id": "TJL0-QZYahlY"
      },
      "execution_count": null,
      "outputs": [
        {
          "output_type": "stream",
          "name": "stdout",
          "text": [
            "Informe o dia em que você nasceu: 13\n",
            "Agora informe o mês de seu nascimento: 02\n",
            "Por fim digite o ano em que você nasceu: 1984\n",
            "Você nasceu no dia 13 no mês 02 no ano de, 1984 ,correto?\n"
          ]
        }
      ]
    },
    {
      "cell_type": "code",
      "source": [
        "#Crie um script que leia 2 números e tenta mostrar a soma entre eles.\n",
        "\n",
        "num1 = input('Digite um número: ')\n",
        "num2 = input('Digite mais um número: ')\n",
        "sum = int(num1)+int(num2)\n",
        "print('O resultado da soma dos números digitados é:',sum)"
      ],
      "metadata": {
        "colab": {
          "base_uri": "https://localhost:8080/"
        },
        "id": "MRC9QF4Jbb-U",
        "outputId": "c58d0096-2a3c-4178-9f6f-1aa895e4bf0e"
      },
      "execution_count": null,
      "outputs": [
        {
          "output_type": "stream",
          "name": "stdout",
          "text": [
            "Digite um número: 20\n",
            "Digite mais um número: 10\n",
            "O resultado da soma dos números digitados é: 30\n"
          ]
        }
      ]
    },
    {
      "cell_type": "code",
      "source": [
        "#Receba um valor inteiro. Calcule e mostre:\n",
        "#A soma do valor + 1;\n",
        "#A multiplicação do valor * 10;\n",
        "#A exponienciação do valor ** 10.\n",
        "\n",
        "#entrada\n",
        "valor = int(input('Digite um número inteiro: '))\n",
        "\n",
        "#cálculo\n",
        "soma = valor + 1\n",
        "mult = valor * 10\n",
        "exp = valor ** 10\n",
        "\n",
        "#saída\n",
        "print(soma)\n",
        "print(mult)\n",
        "print(exp)"
      ],
      "metadata": {
        "colab": {
          "base_uri": "https://localhost:8080/"
        },
        "id": "ID9Uk384aJer",
        "outputId": "a355db83-0ec5-4fc4-844a-ae9bb6805b01"
      },
      "execution_count": 1,
      "outputs": [
        {
          "output_type": "stream",
          "name": "stdout",
          "text": [
            "Digite um número inteiro: 500\n",
            "501\n",
            "5000\n",
            "976562500000000000000000000\n"
          ]
        }
      ]
    },
    {
      "cell_type": "code",
      "source": [
        "#entrada\n",
        "valor = float(input('Digite um número decimal: '))\n",
        "\n",
        "#cálculo\n",
        "soma = valor + 1\n",
        "mult = valor * 10\n",
        "exp = valor ** 10\n",
        "\n",
        "#saída\n",
        "print(soma)\n",
        "print(mult)\n",
        "print(exp)"
      ],
      "metadata": {
        "colab": {
          "base_uri": "https://localhost:8080/"
        },
        "id": "PU5OMW0kaRXT",
        "outputId": "50f89bf2-b49e-4eee-9739-8d4753b1c32a"
      },
      "execution_count": 2,
      "outputs": [
        {
          "output_type": "stream",
          "name": "stdout",
          "text": [
            "Digite um número decimal: 10.5\n",
            "11.5\n",
            "105.0\n",
            "16288946267.774414\n"
          ]
        }
      ]
    }
  ]
}