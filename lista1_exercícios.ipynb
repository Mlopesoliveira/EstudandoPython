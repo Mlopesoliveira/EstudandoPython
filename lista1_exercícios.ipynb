{
  "nbformat": 4,
  "nbformat_minor": 0,
  "metadata": {
    "colab": {
      "provenance": [],
      "authorship_tag": "ABX9TyMi5We2sf+e315/ZMFP3lnS",
      "include_colab_link": true
    },
    "kernelspec": {
      "name": "python3",
      "display_name": "Python 3"
    },
    "language_info": {
      "name": "python"
    }
  },
  "cells": [
    {
      "cell_type": "markdown",
      "metadata": {
        "id": "view-in-github",
        "colab_type": "text"
      },
      "source": [
        "<a href=\"https://colab.research.google.com/github/Mlopesoliveira/EstudandoPython/blob/main/lista1_exerc%C3%ADcios.ipynb\" target=\"_parent\"><img src=\"https://colab.research.google.com/assets/colab-badge.svg\" alt=\"Open In Colab\"/></a>"
      ]
    },
    {
      "cell_type": "markdown",
      "source": [
        "**Lista de exercícios - Primeira semana de maio**"
      ],
      "metadata": {
        "id": "xFLTeMkuxYJA"
      }
    },
    {
      "cell_type": "markdown",
      "source": [
        "TURMA18 - MENINASPROGRAMADORAS\n",
        "\n",
        "Professora: Maria da Graça Campos Pimentel"
      ],
      "metadata": {
        "id": "yXrSdE5UYdOC"
      }
    },
    {
      "cell_type": "code",
      "source": [
        "#Exercício: Papagaio engraçado\n",
        "#No parque ecológico de São Carlos há um papagaio engraçado.\n",
        "#Ele adora aprender palavras novas, mas sempre as repete duas vezes.\n",
        "#Seu programa deve imitar o papagaio engraçado\n",
        "palavra = input('Digite uma palavra: ')\n",
        "print(palavra , palavra)"
      ],
      "metadata": {
        "colab": {
          "base_uri": "https://localhost:8080/"
        },
        "id": "lcaSPEDTUweX",
        "outputId": "d305c99c-82c6-4d75-8495-57346153e702"
      },
      "execution_count": null,
      "outputs": [
        {
          "output_type": "stream",
          "name": "stdout",
          "text": [
            "Digite uma palavra: Olá\n",
            "Olá Olá\n"
          ]
        }
      ]
    },
    {
      "cell_type": "code",
      "source": [
        "#exercício: simplificações do mundo real\n",
        "#Seu programa deve ler três informações sobre um animal e imprimir uma mensagem que descreve o animal com base nessas informações;\n",
        "animal = str(input())\n",
        "atributo = str(input())\n",
        "acao = str(input())\n",
        "print('Um '+animal+' tem '+atributo +' e pode '+acao)"
      ],
      "metadata": {
        "id": "cC8QfnoKU5oA",
        "colab": {
          "base_uri": "https://localhost:8080/"
        },
        "outputId": "49653284-fb09-423c-80aa-e57b7d4eb4bd"
      },
      "execution_count": 12,
      "outputs": [
        {
          "output_type": "stream",
          "name": "stdout",
          "text": [
            "gato\n",
            "bigode\n",
            "miar\n",
            "Um gato tem bigode e pode miar\n"
          ]
        }
      ]
    },
    {
      "cell_type": "code",
      "source": [
        "#exercício: somando strings\n",
        "#O que é fornecido como entrada?\n",
        "#Três linhas, cada uma com uma string qualquer\n",
        "#O que seu programa deve produzir?\n",
        "#Seis linhas, cada uma som a soma das string duas a duas.\n",
        "entrada1 = str(input())\n",
        "entrada2 = str(input())\n",
        "entrada3 = str(input())\n",
        "print(entrada1 + entrada2)\n",
        "print(entrada1 + entrada3)\n",
        "print(entrada2 + entrada1)\n",
        "print(entrada2 + entrada3)\n",
        "print(entrada3 + entrada1)\n",
        "print(entrada3 + entrada2)"
      ],
      "metadata": {
        "id": "_WTRSY5eVqe7",
        "outputId": "97ce15f4-f9c4-4627-b895-5e58aac3a5c7",
        "colab": {
          "base_uri": "https://localhost:8080/"
        }
      },
      "execution_count": null,
      "outputs": [
        {
          "output_type": "stream",
          "name": "stdout",
          "text": [
            "Melissa\n",
            "Lopes\n",
            "Oliveira\n",
            "MelissaLopes\n",
            "MelissaOliveira\n",
            "LopesMelissa\n",
            "LopesOliveira\n",
            "OliveiraMelissa\n",
            "OliveiraLopes\n"
          ]
        }
      ]
    },
    {
      "cell_type": "code",
      "source": [
        "#Exercício: Bem-vinda\n",
        "#Seu programa deve ler um nome oferecido como entrada e imprimir uma mensagem de boas vindas como saída\n",
        "#Entrada: Uma linha com um nome\n",
        "#Saída: Mensagem de boas vindas, como no exemplo\n",
        "\n",
        "nome = input('Informe seu nome: ')\n",
        "print('Bem-vinda' , nome)\n"
      ],
      "metadata": {
        "colab": {
          "base_uri": "https://localhost:8080/"
        },
        "id": "rTbYIAInxzrc",
        "outputId": "dfff302d-1dae-4269-b39e-f234b5196e52"
      },
      "execution_count": null,
      "outputs": [
        {
          "output_type": "stream",
          "name": "stdout",
          "text": [
            "Informe seu nome: Melissa\n",
            "Bem-vinda Melissa\n"
          ]
        }
      ]
    },
    {
      "cell_type": "code",
      "source": [
        "#exercício: cadastro light\n",
        "#objetivo: montar um nome completo\n",
        "nome = input()\n",
        "sobrenome = input()\n",
        "print(nome , sobrenome)"
      ],
      "metadata": {
        "colab": {
          "base_uri": "https://localhost:8080/"
        },
        "id": "Bu1LjwunWNz0",
        "outputId": "9fab2862-a339-45c1-c163-6441a82b09a2"
      },
      "execution_count": null,
      "outputs": [
        {
          "output_type": "stream",
          "name": "stdout",
          "text": [
            "Melissa\n",
            "Lopes\n",
            "Melissa Lopes\n"
          ]
        }
      ]
    },
    {
      "cell_type": "code",
      "source": [
        "#exercício: o próximo\n",
        "#objetivo: ler um inteiro e calcular o próximo número inteiro.\n",
        "n = int(input())\n",
        "print(n + 1)"
      ],
      "metadata": {
        "colab": {
          "base_uri": "https://localhost:8080/"
        },
        "id": "Yv-SbhZs9PCO",
        "outputId": "412fd7ae-8636-4eea-9294-c6d34622ab39"
      },
      "execution_count": null,
      "outputs": [
        {
          "output_type": "stream",
          "name": "stdout",
          "text": [
            "2\n",
            "3\n"
          ]
        }
      ]
    },
    {
      "cell_type": "code",
      "source": [
        "#exercício: o anterior\n",
        "#objetivo: ler um inteiro e calcular o número inteiro que vem antes.\n",
        "n = int(input())\n",
        "print(n - 1)"
      ],
      "metadata": {
        "colab": {
          "base_uri": "https://localhost:8080/"
        },
        "id": "THOIm6v39ej5",
        "outputId": "c741e201-fa62-4bc3-afe1-99b4569c98a2"
      },
      "execution_count": null,
      "outputs": [
        {
          "output_type": "stream",
          "name": "stdout",
          "text": [
            "5\n",
            "4\n"
          ]
        }
      ]
    },
    {
      "cell_type": "code",
      "source": [
        "#exercício: o dobro\n",
        "#objetivo: ler um número e calcular o dobro desse número\n",
        "n = int(input())\n",
        "print(n * 2)"
      ],
      "metadata": {
        "colab": {
          "base_uri": "https://localhost:8080/"
        },
        "id": "248bzIpI-eA8",
        "outputId": "f912ee55-7d10-4d7e-c04f-5ec060b00874"
      },
      "execution_count": null,
      "outputs": [
        {
          "output_type": "stream",
          "name": "stdout",
          "text": [
            "5\n",
            "10\n"
          ]
        }
      ]
    },
    {
      "cell_type": "code",
      "source": [
        "#exercício: a metade\n",
        "#objetico: ler um número e dividi-lo pela metade\n",
        "n = int(input())\n",
        "print(n/2)"
      ],
      "metadata": {
        "colab": {
          "base_uri": "https://localhost:8080/"
        },
        "id": "dV1IzV-E-16u",
        "outputId": "2a8d3120-a2d9-429b-ebcd-cf9ee98d31bd"
      },
      "execution_count": null,
      "outputs": [
        {
          "output_type": "stream",
          "name": "stdout",
          "text": [
            "10\n",
            "5\n"
          ]
        }
      ]
    },
    {
      "cell_type": "code",
      "source": [
        "#exercício: a divisão inteira\n",
        "#Seu programa deve ler dois inteiros, um em cada linha, e calcular:\n",
        "#o resultado da divisão inteira do primeiro pelo segundo;\n",
        "#o resultado do resto da divisão inteira do primeiro pelo segundo.\n",
        "n1 = int(input())\n",
        "n2 = int(input())\n",
        "print(n1 // n2)\n",
        "print(n1 % n2)"
      ],
      "metadata": {
        "colab": {
          "base_uri": "https://localhost:8080/"
        },
        "id": "aJuengH__WFz",
        "outputId": "7d50816c-1039-46a0-db5c-a83da680c0f8"
      },
      "execution_count": null,
      "outputs": [
        {
          "output_type": "stream",
          "name": "stdout",
          "text": [
            "10\n",
            "2\n",
            "5\n",
            "0\n"
          ]
        }
      ]
    },
    {
      "cell_type": "code",
      "source": [
        "#exercício: rejuvenescimento light\n",
        "#objetivo: Seu programa deve ler dois valores, nor diminuindo a idade em dois anos.\n",
        "nome = input()\n",
        "idade = int(input())\n",
        "print(idade - 2)\n",
        "print(nome)"
      ],
      "metadata": {
        "colab": {
          "base_uri": "https://localhost:8080/"
        },
        "id": "J7tjrjOKBqNw",
        "outputId": "51a2bbb3-116d-47e5-bb9c-6a4bb391d94a"
      },
      "execution_count": null,
      "outputs": [
        {
          "output_type": "stream",
          "name": "stdout",
          "text": [
            "Melissa\n",
            "17\n",
            "15\n",
            "Melissa\n"
          ]
        }
      ]
    },
    {
      "cell_type": "code",
      "source": [
        "#exercício: Pin perigoso\n",
        "#objetivo: gerar um número de pin com 4 dígitos, somando duas datas importantes para  usuário, como ano de nascimento e ano de sua formatura.\n",
        "ano1 = int(input())\n",
        "ano2 = int(input())\n",
        "print(ano1 + ano2)"
      ],
      "metadata": {
        "colab": {
          "base_uri": "https://localhost:8080/"
        },
        "id": "_tEJWcm2CLgO",
        "outputId": "da7fabf1-df78-4d0c-cf91-4258ed12419b"
      },
      "execution_count": null,
      "outputs": [
        {
          "output_type": "stream",
          "name": "stdout",
          "text": [
            "2005\n",
            "2023\n",
            "4028\n"
          ]
        }
      ]
    },
    {
      "cell_type": "code",
      "source": [
        "#exercício: A compra questionável\n",
        "#objetivo: Seu programa deve ler duas linhas, com um valor inteiro cada;\n",
        "#O primeiro valor corresponde ao valor em dinheiro que a pessoa tem na conta do banco;\n",
        "#O segundo valor corresponde ao total calculado no carrinho de compras;\n",
        "#Seu programa deve calcular qual o saldo na conta depois que a pessoa pagar a conta com PIX.\n",
        "\n",
        "saldo = int(input())\n",
        "valor = int(input())\n",
        "print(saldo - valor)"
      ],
      "metadata": {
        "colab": {
          "base_uri": "https://localhost:8080/"
        },
        "id": "Zbbuf49HDizj",
        "outputId": "51d219c4-8f55-4b46-983d-7030f7e28a1d"
      },
      "execution_count": null,
      "outputs": [
        {
          "output_type": "stream",
          "name": "stdout",
          "text": [
            "1000\n",
            "429\n",
            "571\n"
          ]
        }
      ]
    },
    {
      "cell_type": "code",
      "source": [
        "#exercício: o aumento no salário\n",
        "#objetivo: Seu programa deve ler duas linhas, com um valor inteiro cada;\n",
        "#O primeiro valor corresponde ao salário de uma pessoa;\n",
        "#O segundo valor corresponde à porcentagem de aumento que deve ser adicionada ao salário;\n",
        "#Seu programa deve calcular o valor correspondente ao aumento do salário informado, quando aplicada a porcentagem informada, e imprimir o valor calculado.\n",
        "salario = int(input())\n",
        "porcentagem_aumento = int(input())\n",
        "print(salario*porcentagem_aumento/100)"
      ],
      "metadata": {
        "colab": {
          "base_uri": "https://localhost:8080/"
        },
        "id": "6QOnFCrwEflA",
        "outputId": "7bd4b2d6-735c-44cf-de2e-6a797ea765d1"
      },
      "execution_count": null,
      "outputs": [
        {
          "output_type": "stream",
          "name": "stdout",
          "text": [
            "1308\n",
            "10\n",
            "130.8\n"
          ]
        }
      ]
    },
    {
      "cell_type": "code",
      "source": [
        "#exercício: o salário reajustado\n",
        "#objetico: Seu programa deve ler duas linhas, com um valor inteiro cada;\n",
        "#O primeiro valor corresponde ao salário de uma pessoa;\n",
        "#O segundo valor corresponde à porcentagem de aumento que deve ser adicionada ao salário;\n",
        "#Seu programa deve calcular o novo salário, e imprimir o valor calculado.\n",
        "salario = int(input())\n",
        "porcentagem_aumento = int(input())\n",
        "print(salario*porcentagem_aumento/100+salario)"
      ],
      "metadata": {
        "colab": {
          "base_uri": "https://localhost:8080/"
        },
        "id": "18aepZq9GH9G",
        "outputId": "5f50ce73-8a14-47d7-c1a2-6103222e39ab"
      },
      "execution_count": null,
      "outputs": [
        {
          "output_type": "stream",
          "name": "stdout",
          "text": [
            "1308\n",
            "5\n",
            "1373.4\n"
          ]
        }
      ]
    },
    {
      "cell_type": "code",
      "source": [
        "#exercício: decimais a moda antiga\n",
        "#Seu programa deve ler um valor com casas decimais e apresentá-lo com 2, 4, 6, 8 e 10 casas decimais.\n",
        "valor = float(input())\n",
        "print('%.2f' % valor)\n",
        "print('%.4f' % valor)\n",
        "print('%.6f' % valor)\n",
        "print('%.8f' % valor)\n",
        "print('%.10f' % valor)"
      ],
      "metadata": {
        "colab": {
          "base_uri": "https://localhost:8080/"
        },
        "id": "Hqc5oXL_HX9j",
        "outputId": "bf3fcc90-64dd-4045-e2ca-214121570f8c"
      },
      "execution_count": null,
      "outputs": [
        {
          "output_type": "stream",
          "name": "stdout",
          "text": [
            "12.1\n",
            "12.10\n",
            "12.1000\n",
            "12.100000\n",
            "12.10000000\n",
            "12.1000000000\n"
          ]
        }
      ]
    },
    {
      "cell_type": "code",
      "source": [
        "#Exercício: Gorjeta\n",
        "#Entrada\n",
        "#Primeira linha: valor da conta (decimal). Segunda linha: valor da porcentagem da gorjeta (inteiro).\n",
        "#Saída\n",
        "#Valor total da conta, com duas casas decimais.\n",
        "conta = float(input())\n",
        "porcentagem = int(input())\n",
        "gorjeta = conta * porcentagem / 100\n",
        "total = conta + gorjeta\n",
        "print('%.2f' % total)"
      ],
      "metadata": {
        "colab": {
          "base_uri": "https://localhost:8080/"
        },
        "id": "fedzjDFuTRI1",
        "outputId": "0cf33a7e-9cfc-4406-efc5-fec41792112e"
      },
      "execution_count": null,
      "outputs": [
        {
          "output_type": "stream",
          "name": "stdout",
          "text": [
            "100.30\n",
            "3\n",
            "103.31\n"
          ]
        }
      ]
    },
    {
      "cell_type": "code",
      "source": [
        "#exercício: Minuteria\n",
        "#Objetivo: calcular quantos minutos de monitoria você fez, a partir do número de horas e minutos que você participou.\n",
        "#Entrada: Primeira linha: número de horas\n",
        "#Segunda linha: número de minutos\n",
        "#Saída: Total de minutos\n",
        "horas = int(input('Informe quantas horas de monitoria você fez: '))\n",
        "minutos = int(input('Informe quantos minutos de monitoria você fez: '))\n",
        "total = horas*60 + minutos\n",
        "print('O total de minutos de monitoria que você fez foi: ', total)"
      ],
      "metadata": {
        "id": "AGyWAD-tWl61",
        "colab": {
          "base_uri": "https://localhost:8080/"
        },
        "outputId": "91ac52e2-8d3d-4362-91d1-ae8eda13eee2"
      },
      "execution_count": 18,
      "outputs": [
        {
          "output_type": "stream",
          "name": "stdout",
          "text": [
            "Informe quantas horas de monitoria você fez: 1\n",
            "Informe quantos minutos de monitoria você fez: 10\n",
            "O total de minutos de monitoria que você fez foi:  70\n"
          ]
        }
      ]
    },
    {
      "cell_type": "code",
      "source": [
        "#Exercício: Horas e minutos\n",
        "#ainda não submeti no beecrowd\n",
        "#Dado um número de minutos, seu programa deve calcular os números de horas e de minutos correspondentes.\n",
        "min = int(input('Informe os minutos: '))\n",
        "horas = min//60\n",
        "print(min , 'minutos convertidos em horas é igual a:' , horas , 'hora(s)')"
      ],
      "metadata": {
        "colab": {
          "base_uri": "https://localhost:8080/"
        },
        "id": "oZWQzXrSWpMU",
        "outputId": "3075e78b-0b2d-45d8-a962-c6f4d2e2335b"
      },
      "execution_count": null,
      "outputs": [
        {
          "output_type": "stream",
          "name": "stdout",
          "text": [
            "Informe os minutos: 22\n",
            "22 minutos convertidos em horas é igual a: 0 hora(s)\n"
          ]
        }
      ]
    }
  ]
}