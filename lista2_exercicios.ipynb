{
  "nbformat": 4,
  "nbformat_minor": 0,
  "metadata": {
    "colab": {
      "provenance": [],
      "authorship_tag": "ABX9TyMCoeyU0SXlqPGH/AvCavlF",
      "include_colab_link": true
    },
    "kernelspec": {
      "name": "python3",
      "display_name": "Python 3"
    },
    "language_info": {
      "name": "python"
    }
  },
  "cells": [
    {
      "cell_type": "markdown",
      "metadata": {
        "id": "view-in-github",
        "colab_type": "text"
      },
      "source": [
        "<a href=\"https://colab.research.google.com/github/Mlopesoliveira/EstudandoPython/blob/main/lista2_exercicios.ipynb\" target=\"_parent\"><img src=\"https://colab.research.google.com/assets/colab-badge.svg\" alt=\"Open In Colab\"/></a>"
      ]
    },
    {
      "cell_type": "code",
      "source": [
        "#exercicio: Número Par\n",
        "#Leia um valor inteiro e verifique se ele é par \n",
        "#Entrada:Uma linha com um valor inteiro\n",
        "#Saída: S ou N, caso seja par ou não\n",
        "valor = int(input())\n",
        "if valor % 2 == 0:\n",
        "  print('S')\n",
        "else:\n",
        "  print('N')"
      ],
      "metadata": {
        "colab": {
          "base_uri": "https://localhost:8080/"
        },
        "id": "eG0rAiFMkwNb",
        "outputId": "ba72033e-d0bc-4c02-818a-f905ad4f0ca7"
      },
      "execution_count": null,
      "outputs": [
        {
          "output_type": "stream",
          "name": "stdout",
          "text": [
            "4\n",
            "S\n"
          ]
        }
      ]
    },
    {
      "cell_type": "code",
      "source": [
        "#exercício: bandeira\n",
        "#As crianças estão aprendendo a desenhar a bandeira brasileira e precisam da sua ajuda. Elas sabem o nome das cores mas não sabem o nome das figuras geométricas. \n",
        "#Seu programa deve ler o nome de uma cor e informar qual a forma geométrica correspondente.\n",
        "#exemplos:\n",
        "#azul = circunferência\n",
        "#amarelo = losango\n",
        "#verde = retângulo\n",
        "#branco = faixa\n",
        "#roxo = não tem essa cor\n",
        "cor = input()\n",
        "if cor == \"azul\":\n",
        "    print('circunferência')\n",
        "elif cor == \"amarelo\":\n",
        "    print('losango')\n",
        "elif cor == \"verde\":\n",
        "    print('retângulo')\n",
        "elif cor == \"branco\":\n",
        "    print('faixa')\n",
        "else:\n",
        "    print('não tem essa cor')"
      ],
      "metadata": {
        "colab": {
          "base_uri": "https://localhost:8080/"
        },
        "id": "7ICrDz3amINe",
        "outputId": "10c93039-8af8-4b31-cce1-03065e539225"
      },
      "execution_count": null,
      "outputs": [
        {
          "output_type": "stream",
          "name": "stdout",
          "text": [
            "roxo\n",
            "não tem essa cor\n"
          ]
        }
      ]
    },
    {
      "cell_type": "code",
      "source": [
        "#exercício: avançar ou não avançar?\n",
        "#Seu programa deve ler a cor do semáforo (verde/amarelo/vermelho) e dar o comando correto para o carro (avançar ou parar).\n",
        "sinal = input()\n",
        "if sinal == \"verde\":\n",
        "    print('avançar')\n",
        "elif sinal == \"amarelo\":\n",
        "    print('parar')\n",
        "elif sinal == \"vermelho\":\n",
        "    print('parar')"
      ],
      "metadata": {
        "colab": {
          "base_uri": "https://localhost:8080/"
        },
        "id": "xJNbiLSWozX6",
        "outputId": "7a796f72-1f66-4559-ff37-29c55663315b"
      },
      "execution_count": null,
      "outputs": [
        {
          "output_type": "stream",
          "name": "stdout",
          "text": [
            "vermelho\n",
            "parar\n"
          ]
        }
      ]
    },
    {
      "cell_type": "code",
      "source": [
        "#exercício: a compra responsável\n",
        "#Seu programa deve ler duas linhas, com um valor inteiro cada.  \n",
        "#O primeiro valor corresponde ao valor em dinheiro que a pessoa tem na conta do banco. \n",
        "#O segundo valor corresponde ao total calculado no carrinho de compras. \n",
        "#Seu programa deve verificar se a pessoa pode ou não realizar a compra de modo a respeitar sua própria decisão, e emitir mensagens correspondentes:\n",
        "#se o saldo for suficiente, informar 'pode comprar tudo' \n",
        "#caso contrário, informar 'saldo insuficiente'\n",
        "saldo = int(input())\n",
        "valor = int(input())\n",
        "if saldo >= valor:\n",
        "  print('pode comprar tudo')\n",
        "elif saldo < valor:\n",
        "  print('saldo insuficiente')"
      ],
      "metadata": {
        "colab": {
          "base_uri": "https://localhost:8080/"
        },
        "id": "jHs3S7_Yp3md",
        "outputId": "a5a26ca0-9d4e-4065-9c76-b35479a18ff2"
      },
      "execution_count": null,
      "outputs": [
        {
          "output_type": "stream",
          "name": "stdout",
          "text": [
            "222\n",
            "444\n",
            "saldo insuficiente\n"
          ]
        }
      ]
    },
    {
      "cell_type": "code",
      "source": [
        "#exercício: A Compra Responsável Informada\n",
        "saldo = int(input())\n",
        "valor = int(input())\n",
        "if saldo >= valor:\n",
        "  print('se você comprar tudo o saldo será:', saldo - valor)\n",
        "elif saldo < valor:\n",
        "  print('seu saldo é insuficiente para essa compra')"
      ],
      "metadata": {
        "colab": {
          "base_uri": "https://localhost:8080/"
        },
        "id": "nDs3Cv0GrxOQ",
        "outputId": "754b04b9-d5e2-4df7-f3d2-6b3b64127689"
      },
      "execution_count": null,
      "outputs": [
        {
          "output_type": "stream",
          "name": "stdout",
          "text": [
            "199\n",
            "100\n",
            "se você comprar tudo o saldo será: 99\n"
          ]
        }
      ]
    },
    {
      "cell_type": "code",
      "source": [
        "#exercício: idade para votar\n",
        "#Seu programa deve ler um valor inteiro, correspondente à idade de uma pessoa, e informar se essa pessoa tem idade para votar ou ainda é jovem demais.\n",
        "idade = int(input())\n",
        "if idade >= 16:\n",
        "  print('Tem idade para votar')\n",
        "elif idade < 16:\n",
        "  print('Jovem demais para votar, espere até 16')"
      ],
      "metadata": {
        "colab": {
          "base_uri": "https://localhost:8080/"
        },
        "id": "WGTcqlc5t-lF",
        "outputId": "781eb667-f0a0-4b7c-a9e4-ed64c03c3a8a"
      },
      "execution_count": null,
      "outputs": [
        {
          "output_type": "stream",
          "name": "stdout",
          "text": [
            "17\n",
            "Tem idade para votar\n"
          ]
        }
      ]
    },
    {
      "cell_type": "code",
      "source": [
        "#exercício: Voto obrigatório ou facultativo?\n",
        "#Seu programa deve informar se a pessoa tem idade para votar e, se tiver, se o voto é obrigatório ou facultativo.\n",
        "idade = int(input())\n",
        "if (idade > 15 and idade < 18) or idade >= 70:\n",
        "  print('Seu voto é facultativo: você pode votar ou não')\n",
        "elif idade >= 18 and idade <=69:\n",
        "  print('Seu voto é obrigatório')\n",
        "elif idade < 16:\n",
        "  print('Jovem demais para votar, espere até 16')"
      ],
      "metadata": {
        "colab": {
          "base_uri": "https://localhost:8080/"
        },
        "id": "wdTTh5jzutEV",
        "outputId": "a8e3e97e-9db9-4482-dc2f-8ca4846ec907"
      },
      "execution_count": null,
      "outputs": [
        {
          "output_type": "stream",
          "name": "stdout",
          "text": [
            "72\n",
            "Seu voto é facultativo: você pode votar ou não\n"
          ]
        }
      ]
    },
    {
      "cell_type": "code",
      "source": [
        "#exercício: Mês: de número para nome abreviado\n",
        "#Dado o número correspondente a um dos meses do ano, seu programa deve imprimir qual a abreviatura do mês correspondente.\n",
        "número_mês = int(input())\n",
        "if número_mês == 1:\n",
        "    print('jan')\n",
        "elif número_mês == 2:\n",
        "    print('fev')\n",
        "elif número_mês == 3:\n",
        "    print('mar')\n",
        "elif número_mês == 4:\n",
        "    print('abr')\n",
        "elif número_mês == 5:\n",
        "    print('mai')\n",
        "elif número_mês == 6:\n",
        "    print('jun')\n",
        "elif número_mês == 7:\n",
        "    print('jul')\n",
        "elif número_mês == 8:\n",
        "    print('ago')\n",
        "elif número_mês == 9:\n",
        "    print('set')\n",
        "elif número_mês == 10:\n",
        "    print('out')\n",
        "elif número_mês == 11:\n",
        "    print('nov')\n",
        "elif número_mês == 12:\n",
        "    print('dez'),"
      ],
      "metadata": {
        "colab": {
          "base_uri": "https://localhost:8080/"
        },
        "id": "A1bRB4RFwhFW",
        "outputId": "84e331bd-e039-45ce-e337-d59bc7f18d2e"
      },
      "execution_count": null,
      "outputs": [
        {
          "output_type": "stream",
          "name": "stdout",
          "text": [
            "9\n",
            "set\n"
          ]
        }
      ]
    },
    {
      "cell_type": "code",
      "source": [
        "#exercício: final da placa\n",
        "#Seu programa deve ler um inteiro que corresponde aos dígitos da placa de um veículo, e verificar qual é o último dígido daquela placa.\n",
        "placa = int(input())\n",
        "ultimo_digito = placa % 10\n",
        "print(ultimo_digito)"
      ],
      "metadata": {
        "colab": {
          "base_uri": "https://localhost:8080/"
        },
        "id": "_RWU5ZVn0K6e",
        "outputId": "796b7d9a-f25b-4b6a-91b8-e486cec1b67f"
      },
      "execution_count": null,
      "outputs": [
        {
          "output_type": "stream",
          "name": "stdout",
          "text": [
            "46588\n",
            "8\n"
          ]
        }
      ]
    },
    {
      "cell_type": "code",
      "source": [
        "placa = int(input())\n",
        "if (placa % 10 == 1) or placa % 10 == 2:\n",
        "    print('segunda-feira')\n",
        "elif (placa % 10 == 3) or placa % 10 == 4:\n",
        "    print('terça-feira')\n",
        "elif (placa % 10 == 5) or placa % 10 == 6:\n",
        "    print('quarta-feira')\n",
        "elif (placa % 10 == 7) or placa % 10 == 8:\n",
        "    print('quinta_feira')\n",
        "elif (placa % 10 == 9) or placa % 10 == 0:\n",
        "    print('sexta-feira')"
      ],
      "metadata": {
        "colab": {
          "base_uri": "https://localhost:8080/"
        },
        "id": "ge2oYNSn2sUG",
        "outputId": "a1ded26d-046d-4e74-f5a3-f4dff20e2aaa"
      },
      "execution_count": null,
      "outputs": [
        {
          "output_type": "stream",
          "name": "stdout",
          "text": [
            "123666\n",
            "quarta-feira\n"
          ]
        }
      ]
    },
    {
      "cell_type": "code",
      "source": [
        "placa = int(input())\n",
        "ultimo_digito = placa % 10\n",
        "if ultimo_digito in [1, 2]:\n",
        "    print('segunda-feira')\n",
        "elif ultimo_digito in [3, 4]:\n",
        "    print('terça-feira')\n",
        "elif ultimo_digito in [5, 6]:\n",
        "    print('quarta-feira')\n",
        "elif ultimo_digito in [7, 8]:\n",
        "    print('quinta_feira')\n",
        "elif ultimo_digito in [9, 0]:\n",
        "    print('sexta-feira')"
      ],
      "metadata": {
        "colab": {
          "base_uri": "https://localhost:8080/"
        },
        "id": "U7qHRdhV5kd3",
        "outputId": "277df1e0-942c-483b-b39d-97d728df0708"
      },
      "execution_count": null,
      "outputs": [
        {
          "output_type": "stream",
          "name": "stdout",
          "text": [
            "1233654\n",
            "terça-feira\n"
          ]
        }
      ]
    }
  ]
}