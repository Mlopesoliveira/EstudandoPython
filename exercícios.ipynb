{
  "nbformat": 4,
  "nbformat_minor": 0,
  "metadata": {
    "colab": {
      "provenance": [],
      "authorship_tag": "ABX9TyMb53Xpa26YTjGPM1v7SWFM",
      "include_colab_link": true
    },
    "kernelspec": {
      "name": "python3",
      "display_name": "Python 3"
    },
    "language_info": {
      "name": "python"
    }
  },
  "cells": [
    {
      "cell_type": "markdown",
      "metadata": {
        "id": "view-in-github",
        "colab_type": "text"
      },
      "source": [
        "<a href=\"https://colab.research.google.com/github/Mlopesoliveira/EstudandoPython/blob/main/exerc%C3%ADcios.ipynb\" target=\"_parent\"><img src=\"https://colab.research.google.com/assets/colab-badge.svg\" alt=\"Open In Colab\"/></a>"
      ]
    },
    {
      "cell_type": "markdown",
      "source": [
        "**Lista de exercício**"
      ],
      "metadata": {
        "id": "3m9tRmoIurB5"
      }
    },
    {
      "cell_type": "code",
      "execution_count": null,
      "metadata": {
        "colab": {
          "base_uri": "https://localhost:8080/"
        },
        "id": "EIqcZFdZuf-X",
        "outputId": "b5b90234-336d-44ba-912c-dfb4442b3079"
      },
      "outputs": [
        {
          "output_type": "stream",
          "name": "stdout",
          "text": [
            "Insira um número:-100\n",
            "-99\n"
          ]
        }
      ],
      "source": [
        "#Exercício 1: Próximo\n",
        "#Seu programa deve ler um inteiro, calcular o próximo valor inteiro, e imprimir o valor calculado.\n",
        "\n",
        "#Entrada\n",
        "valor = int(input('Insira um número:'))\n",
        "\n",
        "#Saída\n",
        "print(valor+1)\n",
        "\n"
      ]
    },
    {
      "cell_type": "code",
      "source": [
        "#Exercício 2: O anterior\n",
        "#Seu programa deve ser um inteiro, calcular o valor inteiro anterior, e imprimir o valor calculado.\n",
        "\n",
        "#Entrada\n",
        "valor = int(input('Insira um número:'))\n",
        "\n",
        "#Saída\n",
        "print(valor-1)"
      ],
      "metadata": {
        "colab": {
          "base_uri": "https://localhost:8080/"
        },
        "id": "tuOmMkctwWfI",
        "outputId": "16f83f1f-dced-4461-f88a-8e4c9648876a"
      },
      "execution_count": null,
      "outputs": [
        {
          "output_type": "stream",
          "name": "stdout",
          "text": [
            "Insira um número:-100\n",
            "-101\n"
          ]
        }
      ]
    },
    {
      "cell_type": "code",
      "source": [
        "#Exercício 3: O dobro\n",
        "#Seu programa deve ser um inteiro, calcular o dobro do valor lido, e imprimir o valor calculado.\n",
        "\n",
        "#Entrada\n",
        "valor = int(input('Insira um número:'))\n",
        "\n",
        "#Saída\n",
        "print(valor*2)"
      ],
      "metadata": {
        "colab": {
          "base_uri": "https://localhost:8080/"
        },
        "id": "lzlr5hc8xp2M",
        "outputId": "dd2792bf-3bdb-4e1e-970c-385de4c61c9d"
      },
      "execution_count": null,
      "outputs": [
        {
          "output_type": "stream",
          "name": "stdout",
          "text": [
            "Insira um número:101\n",
            "202\n"
          ]
        }
      ]
    },
    {
      "cell_type": "code",
      "source": [
        "#Exercício 4: A metade\n",
        "#Seu programa deve ser um inteiro, calcular a metade do valor lido, e imprimir o valor calculado.\n",
        "\n",
        "#Entrada\n",
        "valor = int(input('Digite um número:'))\n",
        "\n",
        "#Saída\n",
        "print(valor/2)"
      ],
      "metadata": {
        "colab": {
          "base_uri": "https://localhost:8080/"
        },
        "id": "-q6fBLzByOJf",
        "outputId": "d1957618-f710-4609-c546-1652b2889bd6"
      },
      "execution_count": null,
      "outputs": [
        {
          "output_type": "stream",
          "name": "stdout",
          "text": [
            "Digite um número:2\n",
            "1.0\n"
          ]
        }
      ]
    },
    {
      "cell_type": "code",
      "source": [
        "#Exercício 5: A divisão inteira\n",
        "#Seu programa deve ler dois valores inteiros, um em cada linha, e calcular:\n",
        "#o resultado da divisão inteira do primeiro pelo segundo e\n",
        "#o resultado do resto da divisão inteira do primeiro pelo segundo\n",
        "#e imprimir os valores calculados.\n",
        "\n",
        "#Entrada\n",
        "n1 = int(input('Digite um número:'))\n",
        "n2 = int(input('Digite mais um número:'))\n",
        "\n",
        "#Saída\n",
        "print(n1//n2)\n",
        "print(n1%n2)"
      ],
      "metadata": {
        "colab": {
          "base_uri": "https://localhost:8080/"
        },
        "id": "v9Tk3Lh_yu2B",
        "outputId": "af50722c-56a4-4557-e20a-667040c56ad1"
      },
      "execution_count": null,
      "outputs": [
        {
          "output_type": "stream",
          "name": "stdout",
          "text": [
            "Digite um número:987654321\n",
            "Digite mais um número:563\n",
            "1754270\n",
            "311\n"
          ]
        }
      ]
    },
    {
      "cell_type": "code",
      "source": [
        "#Exercício 6: Bem-vinda\n",
        "#O programa lê um nome oferecido como entrada para o programa e imprime uma mensagem de boas vindas como saída.\n",
        "\n",
        "#Entrada\n",
        "nome = input('Digite seu nome:')\n",
        "\n",
        "#Saída\n",
        "print('Bem-vinda',nome)"
      ],
      "metadata": {
        "colab": {
          "base_uri": "https://localhost:8080/"
        },
        "id": "QtYDVtKO0Zml",
        "outputId": "e1d7c6b8-a2f8-48ce-bf88-d0909a1a8e18"
      },
      "execution_count": null,
      "outputs": [
        {
          "output_type": "stream",
          "name": "stdout",
          "text": [
            "Digite seu nome:Melissa\n",
            "Bem-vinda Melissa\n"
          ]
        }
      ]
    },
    {
      "cell_type": "code",
      "source": [
        "#Exercício 7: Cadastro Light\n",
        "#Neste exercício, sua tarefa é fazer um programa vai imprimir o nome completo de uma pessoa, anexando o nome ao sobrenome.\n",
        "\n",
        "#Entrada\n",
        "nome = input('Digite seu nome:')\n",
        "sobrenome = input('Digite seu sobrenome:')\n",
        "\n",
        "#Saída\n",
        "print(nome, sobrenome)"
      ],
      "metadata": {
        "colab": {
          "base_uri": "https://localhost:8080/"
        },
        "id": "bBFuQana202H",
        "outputId": "749327a2-6356-4438-d123-45983c488b0d"
      },
      "execution_count": null,
      "outputs": [
        {
          "output_type": "stream",
          "name": "stdout",
          "text": [
            "Digite seu nome:mel\n",
            "Digite seu sobrenome:lopes\n",
            "mel lopes\n"
          ]
        }
      ]
    },
    {
      "cell_type": "code",
      "source": [
        "#Exercício 8: Rejuvenescimento Light\n",
        "#Seu programa deve ler dois valores, nome e idade, e imprimi-los na ordem inversa, diminuindo a idade em dois anos.\n",
        "\n",
        "#Entrada\n",
        "nome = input('Digite seu nome:')\n",
        "idade = int(input('Digite sua idade:'))\n",
        "\n",
        "#Saída\n",
        "print(idade-2)\n",
        "print(nome)"
      ],
      "metadata": {
        "colab": {
          "base_uri": "https://localhost:8080/"
        },
        "id": "2V1HIs2z4WH6",
        "outputId": "ecd347d8-57f3-471b-d3b8-83f53707cd54"
      },
      "execution_count": null,
      "outputs": [
        {
          "output_type": "stream",
          "name": "stdout",
          "text": [
            "Digite seu nome:mel\n",
            "Digite sua idade:17\n",
            "15\n",
            "mel\n"
          ]
        }
      ]
    },
    {
      "cell_type": "code",
      "source": [
        "#Exercício 9: Decimais à moda antiga\n",
        "#Seu programa deve ler um valor com casas decimais e apresentá-lo com 2, 4, 6, 8 e 10 casas decimais.\n",
        "\n",
        "#Entrada\n",
        "valor = float(input())\n",
        "#Saída\n",
        "print('%.2f' % valor)\n",
        "print('%.4f' % valor)\n",
        "print('%.6f' % valor)\n",
        "print('%.8f' % valor)\n",
        "print('%.10f' % valor)"
      ],
      "metadata": {
        "colab": {
          "base_uri": "https://localhost:8080/"
        },
        "id": "X5716n3z5OCV",
        "outputId": "fbddf233-b736-46cb-b3d1-9d7da0fc7f33"
      },
      "execution_count": null,
      "outputs": [
        {
          "output_type": "stream",
          "name": "stdout",
          "text": [
            "3.14159265358979323846\n",
            "3.14\n",
            "3.1416\n",
            "3.141593\n",
            "3.14159265\n",
            "3.1415926536\n"
          ]
        }
      ]
    },
    {
      "cell_type": "code",
      "source": [
        "#Exercício 10: O Aumento no Salário\n",
        "#Seu programa deve ler duas linhas, com um valor inteiro cada. O primeiro valor corresponde ao *salário* de uma pessoa. O segundo valor corresponde à *porcentagem* de aumento que deve ser adicionada ao salário. Seu programa deve calcular o valor correspondente ao aumento do salário informado, quando aplicada a porcentagem informada, e imprimir o valor calculado.\n",
        "\n",
        "#Entrada\n",
        "salario = int(input('Informe o salário atual: '))\n",
        "porcentagem = int(input('Informe a porcentagem de aumento do salário: '))\n",
        "#Saída\n",
        "print(salario*porcentagem/100)\n"
      ],
      "metadata": {
        "id": "6bm4rd6l9IgH",
        "colab": {
          "base_uri": "https://localhost:8080/"
        },
        "outputId": "59b0a796-78d8-4917-d3b0-6c7b87a0f616"
      },
      "execution_count": null,
      "outputs": [
        {
          "output_type": "stream",
          "name": "stdout",
          "text": [
            "Informe o slário atual: 1000\n",
            "Informe a porcentagem de aumento do salário: 20\n",
            "200.0\n"
          ]
        }
      ]
    },
    {
      "cell_type": "code",
      "source": [
        "#Exercício 11: O salário reajustado\n",
        "#Seu programa deve ler duas linhas, com um valor inteiro cada:\n",
        "#O primeiro valor corresponde ao salário de uma pessoa; O segundo valor corresponde à porcentagem de aumento que deve ser adicionada ao salário.\n",
        "#Seu programa deve calcular o novo salário, e imprimir o valor calculado.\n",
        "\n",
        "#Entrada\n",
        "salario = int(input('Informe o salário atual: '))\n",
        "porcentagem = int(input('Informe a porcentagem de aumento do salário: '))\n",
        "#Saída\n",
        "print(salario*porcentagem/100 + salario)"
      ],
      "metadata": {
        "colab": {
          "base_uri": "https://localhost:8080/"
        },
        "id": "8iZ6DnQLNa6i",
        "outputId": "608198f3-ccaa-490f-ffdd-17acc36aa2c1"
      },
      "execution_count": null,
      "outputs": [
        {
          "output_type": "stream",
          "name": "stdout",
          "text": [
            "Informe o salário atual: 1000\n",
            "Informe a porcentagem de aumento do salário: 5\n",
            "1050.0\n"
          ]
        }
      ]
    },
    {
      "cell_type": "code",
      "source": [
        "#Exercício 12: A compra questionável\n",
        "#Seu programa deve ler duas linhas, com um valor inteiro cada:\n",
        "#O primeiro valor corresponde ao valor em dinheiro que a pessoa tem na conta do banco; O segundo valor corresponde ao total calculado no carrinho de compras.\n",
        "#Seu programa deve calcular qual o saldo na conta depois que a pessoa pagar a conta com PIX.\n",
        "\n",
        "#Entrada\n",
        "valor = int(input('Valor em diqueiro no banco: '))\n",
        "total = int(input('Total do carrinho de compras: '))\n",
        "\n",
        "#Saída\n",
        "print(valor-total)"
      ],
      "metadata": {
        "colab": {
          "base_uri": "https://localhost:8080/"
        },
        "id": "__Ug7-guP3oj",
        "outputId": "91715c02-cde2-402d-da12-b4fc1db34c84"
      },
      "execution_count": null,
      "outputs": [
        {
          "output_type": "stream",
          "name": "stdout",
          "text": [
            "Valor em diqueiro no banco: 1000\n",
            "Total do carrinho de compras: 20\n",
            "980\n"
          ]
        }
      ]
    },
    {
      "cell_type": "code",
      "source": [
        "#Exercício 12: Gorjeta\n",
        "#Dados o total de uma conta (valor decimal) e a porcentagem escolhida pelo cliente para a gorjeta (valor inteiro), calcule o valor final da conta (com duas casas decimais).\n",
        "\n",
        "#Entrada\n",
        "conta = float(input('Total da conta: '))\n",
        "gorjeta = int(input('Porcentagem da gorjeta: '))\n",
        "\n",
        "#Saída\n",
        "print(conta*gorjeta/100 + conta)"
      ],
      "metadata": {
        "colab": {
          "base_uri": "https://localhost:8080/"
        },
        "id": "pPkd2fJnRL_e",
        "outputId": "0f488f5b-3656-43ca-ff0a-56c771d71d0a"
      },
      "execution_count": null,
      "outputs": [
        {
          "output_type": "stream",
          "name": "stdout",
          "text": [
            "Total da conta: 60\n",
            "Porcentagem da gorjeta: 2\n",
            "61.2\n"
          ]
        }
      ]
    },
    {
      "cell_type": "code",
      "source": [
        "#Exercício 13: Horas e minutos\n",
        "#Dado um número de minutos, seu programa obter os números de horas e de minutos correspondentes.\n",
        "\n",
        "#Entrada\n",
        "minutos = int(input('Minutos: '))\n",
        "#Saída\n",
        "print(minutos//60)"
      ],
      "metadata": {
        "colab": {
          "base_uri": "https://localhost:8080/"
        },
        "id": "dU6LG3P3WNgG",
        "outputId": "3571e3e8-f81d-4eb0-b5b5-a63bd81ae9b1"
      },
      "execution_count": null,
      "outputs": [
        {
          "output_type": "stream",
          "name": "stdout",
          "text": [
            "Minutos: 60\n",
            "1\n"
          ]
        }
      ]
    }
  ]
}