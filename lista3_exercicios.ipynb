{
  "cells": [
    {
      "cell_type": "markdown",
      "metadata": {
        "id": "view-in-github",
        "colab_type": "text"
      },
      "source": [
        "<a href=\"https://colab.research.google.com/github/Mlopesoliveira/EstudandoPython/blob/main/lista3_exercicios.ipynb\" target=\"_parent\"><img src=\"https://colab.research.google.com/assets/colab-badge.svg\" alt=\"Open In Colab\"/></a>"
      ]
    },
    {
      "cell_type": "code",
      "source": [
        "#exercício: Loud annoying parrot\n",
        "nome = 'mARia dA grAçA'\n",
        "result = nome.title()\n",
        "print(result)\n",
        "result = nome.upper()\n",
        "print(result)\n",
        "result = nome.lower()\n",
        "print(result)"
      ],
      "metadata": {
        "colab": {
          "base_uri": "https://localhost:8080/"
        },
        "id": "6YBcXQ9ShwI2",
        "outputId": "b2fc186d-bc38-4c7d-9245-451569ffbdc9"
      },
      "execution_count": 13,
      "outputs": [
        {
          "output_type": "stream",
          "name": "stdout",
          "text": [
            "Maria Da Graça\n",
            "MARIA DA GRAÇA\n",
            "maria da graça\n"
          ]
        }
      ]
    },
    {
      "cell_type": "code",
      "source": [
        "frases = []\n",
        "while True:\n",
        "    frase = input()\n",
        "    if frase == '.':\n",
        "        break\n",
        "    frases.append(frase)\n",
        "\n",
        "for frase in frases:\n",
        "    print(frase)"
      ],
      "metadata": {
        "colab": {
          "base_uri": "https://localhost:8080/"
        },
        "id": "7HCe6TvQl808",
        "outputId": "e51bffde-f647-407b-d13a-4319181b4c33"
      },
      "execution_count": 11,
      "outputs": [
        {
          "output_type": "stream",
          "name": "stdout",
          "text": [
            "olá\n",
            "tudo bem?\n",
            "o que fazes?\n",
            ".\n",
            "olá\n",
            "tudo bem?\n",
            "o que fazes?\n"
          ]
        }
      ]
    },
    {
      "cell_type": "code",
      "source": [
        "frases = []\n",
        "while True:\n",
        "    frase = input()\n",
        "    if frase == '.':\n",
        "        break\n",
        "    frases.append(frase)\n",
        "\n",
        "for frase in frases:\n",
        "    print(frase.upper())"
      ],
      "metadata": {
        "colab": {
          "base_uri": "https://localhost:8080/"
        },
        "id": "4mTVicrxmoGL",
        "outputId": "90e185c6-c18d-4e79-f906-7e5240f153ea"
      },
      "execution_count": 10,
      "outputs": [
        {
          "output_type": "stream",
          "name": "stdout",
          "text": [
            "bom dia!\n",
            "tenho muitas coisas para fazer amanhã!\n",
            "estudar while!!!\n",
            ".\n",
            "BOM DIA!\n",
            "TENHO MUITAS COISAS PARA FAZER AMANHÃ!\n",
            "ESTUDAR WHILE!!!\n"
          ]
        }
      ]
    },
    {
      "cell_type": "code",
      "source": [
        "while True:\n",
        "    frase = input()\n",
        "    if frase == '.':\n",
        "        break\n",
        "    print(frase.upper())"
      ],
      "metadata": {
        "colab": {
          "base_uri": "https://localhost:8080/"
        },
        "id": "gsXs5cVvmo1O",
        "outputId": "e4f32331-bc24-4ae4-afa2-6e9b77ea28ea"
      },
      "execution_count": 9,
      "outputs": [
        {
          "name": "stdout",
          "output_type": "stream",
          "text": [
            "bom dia\n",
            "BOM DIA\n",
            "boa tarde meninas\n",
            "BOA TARDE MENINAS\n",
            "boa noite pessoal\n",
            "BOA NOITE PESSOAL\n",
            ".\n"
          ]
        }
      ]
    },
    {
      "cell_type": "code",
      "source": [
        "#exercício: Carlos Drummond de Andrade 1\n",
        "linhas = []\n",
        "for linha in iter(input, 'CDA'):\n",
        "    linhas.append(linha)\n",
        "linhas.append('CDA 1942')\n",
        "for linha in linhas:\n",
        "    print(linha)"
      ],
      "metadata": {
        "colab": {
          "base_uri": "https://localhost:8080/"
        },
        "id": "kH_J_8KRhbw0",
        "outputId": "1797ea25-e106-4ff6-878e-dca1e9e62e12"
      },
      "execution_count": 3,
      "outputs": [
        {
          "output_type": "stream",
          "name": "stdout",
          "text": [
            "oi\n",
            "tudo bem\n",
            "como vai\n",
            "o que fazes?\n",
            "CDA\n",
            "oi\n",
            "tudo bem\n",
            "como vai\n",
            "o que fazes?\n",
            "CDA 1942\n"
          ]
        }
      ]
    },
    {
      "cell_type": "code",
      "source": [
        "linhas = []\n",
        "\n",
        "while True:\n",
        "    try:\n",
        "        linha = input()\n",
        "        if linha == 'CDA':\n",
        "            break\n",
        "        linhas.append(linha)\n",
        "    except EOFError:\n",
        "        break\n",
        "\n",
        "linhas.append('CDA 1942')\n",
        "\n",
        "for linha in linhas:\n",
        "    print(linha)"
      ],
      "metadata": {
        "id": "djsEVK8_oJmw"
      },
      "execution_count": null,
      "outputs": []
    },
    {
      "cell_type": "code",
      "source": [
        "linhas = []\n",
        "linha = input()\n",
        "\n",
        "while linha != 'CDA':\n",
        "    linhas.append(linha)\n",
        "    linha = input()\n",
        "\n",
        "linhas.append('CDA 1942')\n",
        "\n",
        "for linha in linhas:\n",
        "    print(linha)"
      ],
      "metadata": {
        "id": "Z9f4jTvuoPmc"
      },
      "execution_count": null,
      "outputs": []
    },
    {
      "cell_type": "code",
      "source": [
        "def ler_strings():\n",
        "    linhas = []\n",
        "    while True:\n",
        "        linha = input()\n",
        "        if linha == 'CDA':\n",
        "            break\n",
        "        linhas.append(linha)\n",
        "    return linhas\n",
        "\n",
        "def imprimir_strings(strings):\n",
        "    for string in strings:\n",
        "        print(string)\n",
        "    print('CDA 1942')\n",
        "\n",
        "strings = ler_strings()\n",
        "imprimir_strings(strings)"
      ],
      "metadata": {
        "colab": {
          "base_uri": "https://localhost:8080/"
        },
        "id": "C96Ie6KfoSXE",
        "outputId": "d7259e1a-ada0-4a1c-ac88-d0567054cdd1"
      },
      "execution_count": 14,
      "outputs": [
        {
          "output_type": "stream",
          "name": "stdout",
          "text": [
            "E agora, José?\n",
            ".\n",
            "rdh\n",
            "cda\n",
            "CDA\n",
            "E agora, José?\n",
            ".\n",
            "rdh\n",
            "cda\n",
            "CDA 1942\n"
          ]
        }
      ]
    },
    {
      "cell_type": "code",
      "source": [],
      "metadata": {
        "id": "7aIyAL8Qofal"
      },
      "execution_count": null,
      "outputs": []
    }
  ],
  "metadata": {
    "colab": {
      "provenance": [],
      "authorship_tag": "ABX9TyNE3w39IBKLcggRzcau0Rgr",
      "include_colab_link": true
    },
    "kernelspec": {
      "display_name": "Python 3",
      "name": "python3"
    },
    "language_info": {
      "name": "python"
    }
  },
  "nbformat": 4,
  "nbformat_minor": 0
}